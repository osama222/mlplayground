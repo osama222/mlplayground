{
  "cells": [
    {
      "metadata": {
        "trusted": true
      },
      "cell_type": "code",
      "source": "",
      "execution_count": null,
      "outputs": []
    },
    {
      "metadata": {
        "trusted": true
      },
      "cell_type": "code",
      "source": "# Imorting libraries\nimport sys\nimport logging\nimport datetime\nimport time\nimport os",
      "execution_count": 1,
      "outputs": []
    },
    {
      "metadata": {
        "trusted": true,
        "scrolled": true
      },
      "cell_type": "code",
      "source": "# Install Azure eventhub python library \n!pip install azure-eventhub",
      "execution_count": 2,
      "outputs": [
        {
          "output_type": "stream",
          "text": "Collecting azure-eventhub\n\u001b[?25l  Downloading https://files.pythonhosted.org/packages/3a/40/5f5372de27c73403d5fc0940e36ded5421c55b5e34600ae8afd112ec5430/azure_eventhub-1.2.0-py2.py3-none-any.whl (52kB)\n\u001b[K    100% |████████████████████████████████| 61kB 3.0MB/s ta 0:00:01\n\u001b[?25hRequirement already satisfied: azure-common~=1.1 in /home/nbuser/anaconda3_501/lib/python3.6/site-packages (from azure-eventhub) (1.1.16)\nRequirement already satisfied: azure-storage-blob~=1.3 in /home/nbuser/anaconda3_501/lib/python3.6/site-packages (from azure-eventhub) (1.4.0)\nCollecting uamqp<2.0.0,>=1.1.0 (from azure-eventhub)\n\u001b[?25l  Downloading https://files.pythonhosted.org/packages/fc/20/c95452655a858cc599e82858cb5ae1727eb68e0956f2091a49d071aede8c/uamqp-1.1.0-cp36-cp36m-manylinux1_x86_64.whl (2.8MB)\n\u001b[K    100% |████████████████████████████████| 2.8MB 341kB/s eta 0:00:01\n\u001b[?25hRequirement already satisfied: msrestazure<2.0.0,>=0.4.32 in /home/nbuser/anaconda3_501/lib/python3.6/site-packages (from azure-eventhub) (0.5.1)\nRequirement already satisfied: azure-storage-common~=1.4 in /home/nbuser/anaconda3_501/lib/python3.6/site-packages (from azure-storage-blob~=1.3->azure-eventhub) (1.4.0)\nRequirement already satisfied: certifi>=2017.4.17 in /home/nbuser/anaconda3_501/lib/python3.6/site-packages (from uamqp<2.0.0,>=1.1.0->azure-eventhub) (2018.10.15)\nRequirement already satisfied: six~=1.0 in /home/nbuser/anaconda3_501/lib/python3.6/site-packages (from uamqp<2.0.0,>=1.1.0->azure-eventhub) (1.11.0)\nRequirement already satisfied: adal<2.0.0,>=0.6.0 in /home/nbuser/anaconda3_501/lib/python3.6/site-packages (from msrestazure<2.0.0,>=0.4.32->azure-eventhub) (1.2.0)\nRequirement already satisfied: msrest<2.0.0,>=0.4.28 in /home/nbuser/anaconda3_501/lib/python3.6/site-packages (from msrestazure<2.0.0,>=0.4.32->azure-eventhub) (0.6.2)\nRequirement already satisfied: cryptography in /home/nbuser/anaconda3_501/lib/python3.6/site-packages (from azure-storage-common~=1.4->azure-storage-blob~=1.3->azure-eventhub) (2.3.1)\nRequirement already satisfied: requests in /home/nbuser/anaconda3_501/lib/python3.6/site-packages (from azure-storage-common~=1.4->azure-storage-blob~=1.3->azure-eventhub) (2.20.1)\nRequirement already satisfied: python-dateutil in /home/nbuser/anaconda3_501/lib/python3.6/site-packages (from azure-storage-common~=1.4->azure-storage-blob~=1.3->azure-eventhub) (2.7.5)\nRequirement already satisfied: PyJWT>=1.0.0 in /home/nbuser/anaconda3_501/lib/python3.6/site-packages (from adal<2.0.0,>=0.6.0->msrestazure<2.0.0,>=0.4.32->azure-eventhub) (1.7.1)\nRequirement already satisfied: requests-oauthlib>=0.5.0 in /home/nbuser/anaconda3_501/lib/python3.6/site-packages (from msrest<2.0.0,>=0.4.28->msrestazure<2.0.0,>=0.4.32->azure-eventhub) (1.0.0)\nRequirement already satisfied: isodate>=0.6.0 in /home/nbuser/anaconda3_501/lib/python3.6/site-packages (from msrest<2.0.0,>=0.4.28->msrestazure<2.0.0,>=0.4.32->azure-eventhub) (0.6.0)\nRequirement already satisfied: idna>=2.1 in /home/nbuser/anaconda3_501/lib/python3.6/site-packages (from cryptography->azure-storage-common~=1.4->azure-storage-blob~=1.3->azure-eventhub) (2.7)\nRequirement already satisfied: asn1crypto>=0.21.0 in /home/nbuser/anaconda3_501/lib/python3.6/site-packages (from cryptography->azure-storage-common~=1.4->azure-storage-blob~=1.3->azure-eventhub) (0.24.0)\nRequirement already satisfied: cffi!=1.11.3,>=1.7 in /home/nbuser/anaconda3_501/lib/python3.6/site-packages (from cryptography->azure-storage-common~=1.4->azure-storage-blob~=1.3->azure-eventhub) (1.11.5)\nRequirement already satisfied: chardet<3.1.0,>=3.0.2 in /home/nbuser/anaconda3_501/lib/python3.6/site-packages (from requests->azure-storage-common~=1.4->azure-storage-blob~=1.3->azure-eventhub) (3.0.4)\nRequirement already satisfied: urllib3<1.25,>=1.21.1 in /home/nbuser/anaconda3_501/lib/python3.6/site-packages (from requests->azure-storage-common~=1.4->azure-storage-blob~=1.3->azure-eventhub) (1.23)\nRequirement already satisfied: oauthlib>=0.6.2 in /home/nbuser/anaconda3_501/lib/python3.6/site-packages (from requests-oauthlib>=0.5.0->msrest<2.0.0,>=0.4.28->msrestazure<2.0.0,>=0.4.32->azure-eventhub) (2.1.0)\nRequirement already satisfied: pycparser in /home/nbuser/anaconda3_501/lib/python3.6/site-packages (from cffi!=1.11.3,>=1.7->cryptography->azure-storage-common~=1.4->azure-storage-blob~=1.3->azure-eventhub) (2.19)\nInstalling collected packages: uamqp, azure-eventhub\nSuccessfully installed azure-eventhub-1.2.0 uamqp-1.1.0\n",
          "name": "stdout"
        }
      ]
    },
    {
      "metadata": {
        "trusted": true
      },
      "cell_type": "code",
      "source": "# Import Azure eventhub library for python\nfrom azure.eventhub import *",
      "execution_count": 3,
      "outputs": []
    },
    {
      "metadata": {
        "trusted": true
      },
      "cell_type": "code",
      "source": "connstr = \"Endpoint=sb://evtsentiment.servicebus.windows.net/;SharedAccessKeyName=RootManageSharedAccessKey;SharedAccessKey=702sb4SwBuE2ZoqHZUQrQxL/HLjKFN/04JlPplKI8D8=\"\nclient = EventHubClient.from_connection_string(connstr, eventhub='evethubsentiment')\ntry:\n    #if not ADDRESS:\n    #    raise ValueError(\"No EventHubs URL supplied.\")\n\n    # Create Event Hubs client\n    # client = EventHubClient(ADDRESS, debug=False, username=USER, password=KEY)\n    sender = client.add_sender(partition=\"0\")\n    client.run()\n    try:\n        start_time = time.time()\n        for i in range(3):\n            print(\"Sending message: test message {}\".format(i))\n            sender.send(EventData(str(i)))\n    except:\n        raise\n    finally:\n        end_time = time.time()\n        client.stop()\n        run_time = end_time - start_time\n        print(\"Runtime: {} seconds\".format(run_time))\n\nexcept KeyboardInterrupt:\n    pass",
      "execution_count": 30,
      "outputs": [
        {
          "output_type": "stream",
          "text": "Sending message: test message 0\nSending message: test message 1\nSending message: test message 2\nRuntime: 0.18042349815368652 seconds\n",
          "name": "stdout"
        }
      ]
    },
    {
      "metadata": {
        "trusted": true
      },
      "cell_type": "code",
      "source": "eh_hub_info = client.get_eventhub_info()\npartitions = eh_hub_info[\"partition_ids\"]\nprint (eh_hub_info)",
      "execution_count": 27,
      "outputs": [
        {
          "output_type": "stream",
          "text": "{'name': 'evethubsentiment', 'type': 'com.microsoft:eventhub', 'created_at': datetime.datetime(2018, 12, 16, 20, 46, 27, 413000), 'partition_count': 2, 'partition_ids': ['0', '1']}\n",
          "name": "stdout"
        }
      ]
    },
    {
      "metadata": {
        "trusted": true
      },
      "cell_type": "code",
      "source": "# tidying things up a bit, we can rely on this to send data to event hub\nconnstr = \"Endpoint=sb://evtsentiment.servicebus.windows.net/;SharedAccessKeyName=RootManageSharedAccessKey;SharedAccessKey=702sb4SwBuE2ZoqHZUQrQxL/HLjKFN/04JlPplKI8D8=\"\nclient = EventHubClient.from_connection_string(connstr, eventhub='evethubsentiment')\ntry:\n    #if not ADDRESS:\n    #    raise ValueError(\"No EventHubs URL supplied.\")\n    # Create Event Hubs client\n    # client = EventHubClient(ADDRESS, debug=False, username=USER, password=KEY)\n    sender = client.add_sender(partition=\"0\")\n    client.run()\n    try:\n        start_time = time.time()\n        def send_data(ehMessage):\n            # Add your logic here to parse the data coming from twitter\n            sender.send(EventData(ehMessage))\n            print(\"Sending message: %s\" % ehMessage)\n        # put the function that reads twitter data here\n        for i in range(3):\n            send_data(\"sending test message : %s\" % str(i))\n    except:\n        raise\n    finally:\n        end_time = time.time()\n        client.stop()\n        run_time = end_time - start_time\n        print(\"Runtime: {} seconds\".format(run_time))\nexcept KeyboardInterrupt:\n    pass",
      "execution_count": 16,
      "outputs": [
        {
          "output_type": "stream",
          "text": "Sending message: sending test message : 0\nSending message: sending test message : 1\nSending message: sending test message : 2\nRuntime: 0.29123830795288086 seconds\n",
          "name": "stdout"
        }
      ]
    },
    {
      "metadata": {
        "trusted": true
      },
      "cell_type": "code",
      "source": "# Receive data from EventHub\nCONSUMER_GROUP = \"$default\"\nOFFSET = Offset(\"-1\")\nPARTITION = \"0\"\n\ntotal = 0\nlast_sn = -1\nlast_offset = \"-1\"\n#client = EventHubClient(ADDRESS, debug=False, username=USER, password=KEY)\nclient = EventHubClient.from_connection_string(connstr, eventhub='evethubsentiment')\ntry:\n    receiver = client.add_receiver(CONSUMER_GROUP, PARTITION, prefetch=5000, offset=OFFSET)\n    client.run()\n    start_time = time.time()\n    for event_data in receiver.receive(timeout=100):\n        last_offset = event_data.offset.value\n        last_sn = event_data.sequence_number\n        msg_body = event_data.body_as_str()\n        # print(\"Received message : {}, {}\".format(last_offset, last_sn))\n        total += 1\n        print(\"Partition {}, Body {}, Received {}, sn={} offset={}\".format(\n            PARTITION,\n            msg_body,\n            total,\n            last_sn,\n            last_offset))\n\n    end_time = time.time()\n    client.stop()\n    run_time = end_time - start_time\n    print(\"Received {} messages in {} seconds\".format(total, run_time))\n\nexcept KeyboardInterrupt:\n    pass\nfinally:\n    client.stop()",
      "execution_count": 18,
      "outputs": [
        {
          "output_type": "stream",
          "text": "Partition 0, Body Message 0, Received 1, sn=0 offset=0\nPartition 0, Body Message 2, Received 2, sn=1 offset=48\nPartition 0, Body 0, Received 3, sn=2 offset=96\nPartition 0, Body 1, Received 4, sn=3 offset=144\nPartition 0, Body 2, Received 5, sn=4 offset=192\nPartition 0, Body 0, Received 6, sn=5 offset=240\nPartition 0, Body 1, Received 7, sn=6 offset=288\nPartition 0, Body 2, Received 8, sn=7 offset=336\nPartition 0, Body 0, Received 9, sn=8 offset=384\nPartition 0, Body 1, Received 10, sn=9 offset=432\nPartition 0, Body 2, Received 11, sn=10 offset=480\nPartition 0, Body 0, Received 12, sn=11 offset=528\nPartition 0, Body 1, Received 13, sn=12 offset=576\nPartition 0, Body 2, Received 14, sn=13 offset=624\nPartition 0, Body 0, Received 15, sn=14 offset=672\nPartition 0, Body 1, Received 16, sn=15 offset=720\nPartition 0, Body 2, Received 17, sn=16 offset=768\nPartition 0, Body 0, Received 18, sn=17 offset=816\nPartition 0, Body 1, Received 19, sn=18 offset=864\nPartition 0, Body 2, Received 20, sn=19 offset=912\nPartition 0, Body 0, Received 21, sn=20 offset=960\nPartition 0, Body 1, Received 22, sn=21 offset=1008\nPartition 0, Body 2, Received 23, sn=22 offset=1056\nPartition 0, Body sending test message : 0, Received 24, sn=23 offset=1104\nPartition 0, Body sending test message : 1, Received 25, sn=24 offset=1176\nPartition 0, Body sending test message : 2, Received 26, sn=25 offset=1248\nReceived 26 messages in 0.13556647300720215 seconds\n",
          "name": "stdout"
        }
      ]
    },
    {
      "metadata": {
        "trusted": true
      },
      "cell_type": "code",
      "source": "",
      "execution_count": null,
      "outputs": []
    }
  ],
  "metadata": {
    "kernelspec": {
      "name": "python36",
      "display_name": "Python 3.6",
      "language": "python"
    },
    "language_info": {
      "mimetype": "text/x-python",
      "nbconvert_exporter": "python",
      "name": "python",
      "pygments_lexer": "ipython3",
      "version": "3.6.6",
      "file_extension": ".py",
      "codemirror_mode": {
        "version": 3,
        "name": "ipython"
      }
    }
  },
  "nbformat": 4,
  "nbformat_minor": 2
}